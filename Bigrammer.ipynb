{
 "cells": [
  {
   "cell_type": "code",
   "execution_count": 11,
   "id": "irish-seminar",
   "metadata": {},
   "outputs": [
    {
     "data": {
      "text/html": [
       "<style>.container { width:100% !important; }</style>"
      ],
      "text/plain": [
       "<IPython.core.display.HTML object>"
      ]
     },
     "metadata": {},
     "output_type": "display_data"
    }
   ],
   "source": [
    "from IPython.core.display import display, HTML\n",
    "display(HTML(\"<style>.container { width:100% !important; }</style>\"))"
   ]
  },
  {
   "cell_type": "code",
   "execution_count": 17,
   "id": "monetary-environment",
   "metadata": {},
   "outputs": [],
   "source": [
    "import openfst_python as fst\n",
    "from subprocess import check_call\n",
    "from IPython.display import Image\n",
    "from helper_functions import *\n",
    "import pandas as pd"
   ]
  },
  {
   "cell_type": "code",
   "execution_count": 18,
   "id": "manufactured-massachusetts",
   "metadata": {},
   "outputs": [],
   "source": [
    "def to_pic(wfst_wordTtable,name='wfst'):\n",
    "    \"\"\"\n",
    "    Generate Picture from wfst\n",
    "    \"\"\"\n",
    "    f_1.draw(name+'.dot', portrait=True)\n",
    "    check_call(['dot','-Tpng','-Gdpi=300',name+'.dot','-o',name+'.png'])\n",
    "    Image(filename=name+'.png')"
   ]
  },
  {
   "cell_type": "code",
   "execution_count": 19,
   "id": "illegal-event",
   "metadata": {},
   "outputs": [],
   "source": [
    "lex = 'lexicon_min.txt'\n",
    "f_1,_ = generate_word_sequence_recognition_wfst_bigram(1, lex, original=False, weight_fwd=0.5, weight_self=0.5)\n",
    "# f_2, _ = generate_word_sequence_recognition_wfst(1, lex, original=False, weight_fwd=0.1, weight_self=0.9)"
   ]
  },
  {
   "cell_type": "code",
   "execution_count": 20,
   "id": "quick-navigation",
   "metadata": {},
   "outputs": [],
   "source": [
    "to_pic(f_1,'f_1')"
   ]
  },
  {
   "cell_type": "code",
   "execution_count": 42,
   "id": "novel-sigma",
   "metadata": {},
   "outputs": [
    {
     "data": {
      "text/html": [
       "<div>\n",
       "<style scoped>\n",
       "    .dataframe tbody tr th:only-of-type {\n",
       "        vertical-align: middle;\n",
       "    }\n",
       "\n",
       "    .dataframe tbody tr th {\n",
       "        vertical-align: top;\n",
       "    }\n",
       "\n",
       "    .dataframe thead th {\n",
       "        text-align: right;\n",
       "    }\n",
       "</style>\n",
       "<table border=\"1\" class=\"dataframe\">\n",
       "  <thead>\n",
       "    <tr style=\"text-align: right;\">\n",
       "      <th></th>\n",
       "      <th>WFST</th>\n",
       "      <th>S</th>\n",
       "      <th>D</th>\n",
       "      <th>I</th>\n",
       "      <th>Accuracy</th>\n",
       "      <th>Word Counts</th>\n",
       "      <th>Decoder Times</th>\n",
       "      <th>Backtrace Times</th>\n",
       "      <th>Forward Computations</th>\n",
       "    </tr>\n",
       "  </thead>\n",
       "  <tbody>\n",
       "    <tr>\n",
       "      <th>0</th>\n",
       "      <td>baseline log</td>\n",
       "      <td>5</td>\n",
       "      <td>0</td>\n",
       "      <td>17</td>\n",
       "      <td>104.761905</td>\n",
       "      <td>21</td>\n",
       "      <td>1.891650</td>\n",
       "      <td>0.001315</td>\n",
       "      <td>65598</td>\n",
       "    </tr>\n",
       "    <tr>\n",
       "      <th>1</th>\n",
       "      <td>multi word log</td>\n",
       "      <td>3</td>\n",
       "      <td>0</td>\n",
       "      <td>23</td>\n",
       "      <td>123.809524</td>\n",
       "      <td>21</td>\n",
       "      <td>2.146528</td>\n",
       "      <td>0.001156</td>\n",
       "      <td>71286</td>\n",
       "    </tr>\n",
       "    <tr>\n",
       "      <th>2</th>\n",
       "      <td>None weight original</td>\n",
       "      <td>4</td>\n",
       "      <td>1</td>\n",
       "      <td>4</td>\n",
       "      <td>42.857143</td>\n",
       "      <td>21</td>\n",
       "      <td>1.944070</td>\n",
       "      <td>0.000733</td>\n",
       "      <td>65598</td>\n",
       "    </tr>\n",
       "    <tr>\n",
       "      <th>3</th>\n",
       "      <td>5 5 original</td>\n",
       "      <td>4</td>\n",
       "      <td>1</td>\n",
       "      <td>4</td>\n",
       "      <td>42.857143</td>\n",
       "      <td>21</td>\n",
       "      <td>1.906034</td>\n",
       "      <td>0.000631</td>\n",
       "      <td>65598</td>\n",
       "    </tr>\n",
       "    <tr>\n",
       "      <th>4</th>\n",
       "      <td>None weight multi word</td>\n",
       "      <td>3</td>\n",
       "      <td>1</td>\n",
       "      <td>4</td>\n",
       "      <td>38.095238</td>\n",
       "      <td>21</td>\n",
       "      <td>2.067975</td>\n",
       "      <td>0.000771</td>\n",
       "      <td>71286</td>\n",
       "    </tr>\n",
       "  </tbody>\n",
       "</table>\n",
       "</div>"
      ],
      "text/plain": [
       "                     WFST  S  D   I    Accuracy  Word Counts  Decoder Times  \\\n",
       "0            baseline log  5  0  17  104.761905           21       1.891650   \n",
       "1          multi word log  3  0  23  123.809524           21       2.146528   \n",
       "2    None weight original  4  1   4   42.857143           21       1.944070   \n",
       "3            5 5 original  4  1   4   42.857143           21       1.906034   \n",
       "4  None weight multi word  3  1   4   38.095238           21       2.067975   \n",
       "\n",
       "   Backtrace Times  Forward Computations  \n",
       "0         0.001315                 65598  \n",
       "1         0.001156                 71286  \n",
       "2         0.000733                 65598  \n",
       "3         0.000631                 65598  \n",
       "4         0.000771                 71286  "
      ]
     },
     "execution_count": 42,
     "metadata": {},
     "output_type": "execute_result"
    }
   ],
   "source": [
    "transcript_files\n",
    "get_bigram_df(transcript_files)\n",
    "get_bigram_prob_df(bigram_df, dict_all)"
   ]
  },
  {
   "cell_type": "code",
   "execution_count": null,
   "id": "conservative-genesis",
   "metadata": {},
   "outputs": [],
   "source": []
  }
 ],
 "metadata": {
  "kernelspec": {
   "display_name": "Python 3",
   "language": "python",
   "name": "python3"
  },
  "language_info": {
   "codemirror_mode": {
    "name": "ipython",
    "version": 3
   },
   "file_extension": ".py",
   "mimetype": "text/x-python",
   "name": "python",
   "nbconvert_exporter": "python",
   "pygments_lexer": "ipython3",
   "version": "3.7.9"
  }
 },
 "nbformat": 4,
 "nbformat_minor": 5
}
