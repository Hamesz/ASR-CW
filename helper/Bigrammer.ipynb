{
 "cells": [
  {
   "cell_type": "code",
   "execution_count": 1,
   "id": "irish-seminar",
   "metadata": {},
   "outputs": [
    {
     "data": {
      "text/html": [
       "<style>.container { width:100% !important; }</style>"
      ],
      "text/plain": [
       "<IPython.core.display.HTML object>"
      ]
     },
     "metadata": {},
     "output_type": "display_data"
    }
   ],
   "source": [
    "from IPython.core.display import display, HTML\n",
    "display(HTML(\"<style>.container { width:100% !important; }</style>\"))"
   ]
  },
  {
   "cell_type": "code",
   "execution_count": 2,
   "id": "monetary-environment",
   "metadata": {},
   "outputs": [
    {
     "ename": "ModuleNotFoundError",
     "evalue": "No module named 'helper_functions'",
     "output_type": "error",
     "traceback": [
      "\u001b[0;31m---------------------------------------------------------------------------\u001b[0m",
      "\u001b[0;31mModuleNotFoundError\u001b[0m                       Traceback (most recent call last)",
      "\u001b[0;32m<ipython-input-2-3c950447f8ba>\u001b[0m in \u001b[0;36m<module>\u001b[0;34m\u001b[0m\n\u001b[1;32m      2\u001b[0m \u001b[0;32mfrom\u001b[0m \u001b[0msubprocess\u001b[0m \u001b[0;32mimport\u001b[0m \u001b[0mcheck_call\u001b[0m\u001b[0;34m\u001b[0m\u001b[0;34m\u001b[0m\u001b[0m\n\u001b[1;32m      3\u001b[0m \u001b[0;32mfrom\u001b[0m \u001b[0mIPython\u001b[0m\u001b[0;34m.\u001b[0m\u001b[0mdisplay\u001b[0m \u001b[0;32mimport\u001b[0m \u001b[0mImage\u001b[0m\u001b[0;34m\u001b[0m\u001b[0;34m\u001b[0m\u001b[0m\n\u001b[0;32m----> 4\u001b[0;31m \u001b[0;32mfrom\u001b[0m \u001b[0mhelper_functions\u001b[0m \u001b[0;32mimport\u001b[0m \u001b[0;34m*\u001b[0m\u001b[0;34m\u001b[0m\u001b[0;34m\u001b[0m\u001b[0m\n\u001b[0m\u001b[1;32m      5\u001b[0m \u001b[0;32mimport\u001b[0m \u001b[0mpandas\u001b[0m \u001b[0;32mas\u001b[0m \u001b[0mpd\u001b[0m\u001b[0;34m\u001b[0m\u001b[0;34m\u001b[0m\u001b[0m\n\u001b[1;32m      6\u001b[0m \u001b[0;32mimport\u001b[0m \u001b[0mos\u001b[0m\u001b[0;34m\u001b[0m\u001b[0;34m\u001b[0m\u001b[0m\n",
      "\u001b[0;31mModuleNotFoundError\u001b[0m: No module named 'helper_functions'"
     ]
    }
   ],
   "source": [
    "import openfst_python as fst\n",
    "from subprocess import check_call\n",
    "from IPython.display import Image\n",
    "from helper_functions import *\n",
    "import pandas as pd\n",
    "import os"
   ]
  },
  {
   "cell_type": "code",
   "execution_count": 13,
   "id": "manufactured-massachusetts",
   "metadata": {},
   "outputs": [],
   "source": [
    "def to_pic(wfst_wordTtable,name='wfst'):\n",
    "    \"\"\"\n",
    "    Generate Picture from wfst\n",
    "    \"\"\"\n",
    "    f_1.draw(name+'.dot', portrait=True)\n",
    "    check_call(['dot','-Tpng','-Gdpi=300',name+'.dot','-o',name+'.png'])\n",
    "    Image(filename=name+'.png')"
   ]
  },
  {
   "cell_type": "code",
   "execution_count": 14,
   "id": "partial-virginia",
   "metadata": {},
   "outputs": [],
   "source": [
    "folder = '/group/teaching/asr/labs/individual_recordings/s1645821'\n",
    "folder = '/group/teaching/asr/labs/recordings'\n",
    "wavs_txt = [os.path.join(folder,x) for x in os.listdir(folder)]\n",
    "wavs = [wav for wav in wavs_txt if ('.wav' in wav)]\n",
    "transcripts = [wav for wav in wavs_txt if ('.txt' in wav)]"
   ]
  },
  {
   "cell_type": "code",
   "execution_count": 15,
   "id": "novel-sigma",
   "metadata": {},
   "outputs": [],
   "source": [
    "(dict_first, dict_last, dict_all) = get_word_occurences(transcripts)\n",
    "bigram_df = get_bigram_df(transcripts)\n",
    "df_bigram_prob = get_bigram_prob_df(bigram_df, dict_all)"
   ]
  },
  {
   "cell_type": "code",
   "execution_count": 16,
   "id": "sticky-plenty",
   "metadata": {},
   "outputs": [
    {
     "data": {
      "text/html": [
       "<div>\n",
       "<style scoped>\n",
       "    .dataframe tbody tr th:only-of-type {\n",
       "        vertical-align: middle;\n",
       "    }\n",
       "\n",
       "    .dataframe tbody tr th {\n",
       "        vertical-align: top;\n",
       "    }\n",
       "\n",
       "    .dataframe thead tr th {\n",
       "        text-align: left;\n",
       "    }\n",
       "</style>\n",
       "<table border=\"1\" class=\"dataframe\">\n",
       "  <thead>\n",
       "    <tr>\n",
       "      <th></th>\n",
       "      <th></th>\n",
       "      <th colspan=\"10\" halign=\"left\">Word After</th>\n",
       "    </tr>\n",
       "    <tr>\n",
       "      <th></th>\n",
       "      <th></th>\n",
       "      <th>a</th>\n",
       "      <th>of</th>\n",
       "      <th>peck</th>\n",
       "      <th>peppers</th>\n",
       "      <th>peter</th>\n",
       "      <th>picked</th>\n",
       "      <th>pickled</th>\n",
       "      <th>piper</th>\n",
       "      <th>the</th>\n",
       "      <th>where's</th>\n",
       "    </tr>\n",
       "  </thead>\n",
       "  <tbody>\n",
       "    <tr>\n",
       "      <th rowspan=\"10\" valign=\"top\">Word Before</th>\n",
       "      <th>a</th>\n",
       "      <td>0.000000</td>\n",
       "      <td>0.029630</td>\n",
       "      <td>0.777778</td>\n",
       "      <td>0.000000</td>\n",
       "      <td>0.037037</td>\n",
       "      <td>0.029630</td>\n",
       "      <td>0.044444</td>\n",
       "      <td>0.066667</td>\n",
       "      <td>0.000000</td>\n",
       "      <td>0.007407</td>\n",
       "    </tr>\n",
       "    <tr>\n",
       "      <th>of</th>\n",
       "      <td>0.009009</td>\n",
       "      <td>0.004505</td>\n",
       "      <td>0.040541</td>\n",
       "      <td>0.126126</td>\n",
       "      <td>0.036036</td>\n",
       "      <td>0.031532</td>\n",
       "      <td>0.689189</td>\n",
       "      <td>0.027027</td>\n",
       "      <td>0.018018</td>\n",
       "      <td>0.009009</td>\n",
       "    </tr>\n",
       "    <tr>\n",
       "      <th>peck</th>\n",
       "      <td>0.000000</td>\n",
       "      <td>0.725410</td>\n",
       "      <td>0.024590</td>\n",
       "      <td>0.020492</td>\n",
       "      <td>0.020492</td>\n",
       "      <td>0.040984</td>\n",
       "      <td>0.028689</td>\n",
       "      <td>0.008197</td>\n",
       "      <td>0.008197</td>\n",
       "      <td>0.008197</td>\n",
       "    </tr>\n",
       "    <tr>\n",
       "      <th>peppers</th>\n",
       "      <td>0.010638</td>\n",
       "      <td>0.021277</td>\n",
       "      <td>0.024823</td>\n",
       "      <td>0.010638</td>\n",
       "      <td>0.237589</td>\n",
       "      <td>0.070922</td>\n",
       "      <td>0.046099</td>\n",
       "      <td>0.039007</td>\n",
       "      <td>0.021277</td>\n",
       "      <td>0.117021</td>\n",
       "    </tr>\n",
       "    <tr>\n",
       "      <th>peter</th>\n",
       "      <td>0.015686</td>\n",
       "      <td>0.035294</td>\n",
       "      <td>0.019608</td>\n",
       "      <td>0.031373</td>\n",
       "      <td>0.023529</td>\n",
       "      <td>0.098039</td>\n",
       "      <td>0.027451</td>\n",
       "      <td>0.643137</td>\n",
       "      <td>0.027451</td>\n",
       "      <td>0.023529</td>\n",
       "    </tr>\n",
       "    <tr>\n",
       "      <th>picked</th>\n",
       "      <td>0.376068</td>\n",
       "      <td>0.008547</td>\n",
       "      <td>0.025641</td>\n",
       "      <td>0.085470</td>\n",
       "      <td>0.064103</td>\n",
       "      <td>0.004274</td>\n",
       "      <td>0.055556</td>\n",
       "      <td>0.029915</td>\n",
       "      <td>0.038462</td>\n",
       "      <td>0.021368</td>\n",
       "    </tr>\n",
       "    <tr>\n",
       "      <th>pickled</th>\n",
       "      <td>0.022642</td>\n",
       "      <td>0.026415</td>\n",
       "      <td>0.026415</td>\n",
       "      <td>0.698113</td>\n",
       "      <td>0.060377</td>\n",
       "      <td>0.018868</td>\n",
       "      <td>0.041509</td>\n",
       "      <td>0.041509</td>\n",
       "      <td>0.007547</td>\n",
       "      <td>0.018868</td>\n",
       "    </tr>\n",
       "    <tr>\n",
       "      <th>piper</th>\n",
       "      <td>0.000000</td>\n",
       "      <td>0.045267</td>\n",
       "      <td>0.032922</td>\n",
       "      <td>0.032922</td>\n",
       "      <td>0.037037</td>\n",
       "      <td>0.588477</td>\n",
       "      <td>0.082305</td>\n",
       "      <td>0.000000</td>\n",
       "      <td>0.008230</td>\n",
       "      <td>0.004115</td>\n",
       "    </tr>\n",
       "    <tr>\n",
       "      <th>the</th>\n",
       "      <td>0.007407</td>\n",
       "      <td>0.000000</td>\n",
       "      <td>0.607407</td>\n",
       "      <td>0.103704</td>\n",
       "      <td>0.022222</td>\n",
       "      <td>0.037037</td>\n",
       "      <td>0.088889</td>\n",
       "      <td>0.125926</td>\n",
       "      <td>0.000000</td>\n",
       "      <td>0.000000</td>\n",
       "    </tr>\n",
       "    <tr>\n",
       "      <th>where's</th>\n",
       "      <td>0.064516</td>\n",
       "      <td>0.000000</td>\n",
       "      <td>0.016129</td>\n",
       "      <td>0.056452</td>\n",
       "      <td>0.104839</td>\n",
       "      <td>0.032258</td>\n",
       "      <td>0.008065</td>\n",
       "      <td>0.032258</td>\n",
       "      <td>0.669355</td>\n",
       "      <td>0.000000</td>\n",
       "    </tr>\n",
       "  </tbody>\n",
       "</table>\n",
       "</div>"
      ],
      "text/plain": [
       "                    Word After                                          \\\n",
       "                             a        of      peck   peppers     peter   \n",
       "Word Before a         0.000000  0.029630  0.777778  0.000000  0.037037   \n",
       "            of        0.009009  0.004505  0.040541  0.126126  0.036036   \n",
       "            peck      0.000000  0.725410  0.024590  0.020492  0.020492   \n",
       "            peppers   0.010638  0.021277  0.024823  0.010638  0.237589   \n",
       "            peter     0.015686  0.035294  0.019608  0.031373  0.023529   \n",
       "            picked    0.376068  0.008547  0.025641  0.085470  0.064103   \n",
       "            pickled   0.022642  0.026415  0.026415  0.698113  0.060377   \n",
       "            piper     0.000000  0.045267  0.032922  0.032922  0.037037   \n",
       "            the       0.007407  0.000000  0.607407  0.103704  0.022222   \n",
       "            where's   0.064516  0.000000  0.016129  0.056452  0.104839   \n",
       "\n",
       "                                                                       \n",
       "                       picked   pickled     piper       the   where's  \n",
       "Word Before a        0.029630  0.044444  0.066667  0.000000  0.007407  \n",
       "            of       0.031532  0.689189  0.027027  0.018018  0.009009  \n",
       "            peck     0.040984  0.028689  0.008197  0.008197  0.008197  \n",
       "            peppers  0.070922  0.046099  0.039007  0.021277  0.117021  \n",
       "            peter    0.098039  0.027451  0.643137  0.027451  0.023529  \n",
       "            picked   0.004274  0.055556  0.029915  0.038462  0.021368  \n",
       "            pickled  0.018868  0.041509  0.041509  0.007547  0.018868  \n",
       "            piper    0.588477  0.082305  0.000000  0.008230  0.004115  \n",
       "            the      0.037037  0.088889  0.125926  0.000000  0.000000  \n",
       "            where's  0.032258  0.008065  0.032258  0.669355  0.000000  "
      ]
     },
     "execution_count": 16,
     "metadata": {},
     "output_type": "execute_result"
    }
   ],
   "source": [
    "df_bigram_prob"
   ]
  },
  {
   "cell_type": "code",
   "execution_count": 24,
   "id": "conservative-genesis",
   "metadata": {},
   "outputs": [
    {
     "data": {
      "text/plain": [
       "0.02962962962962963"
      ]
     },
     "execution_count": 24,
     "metadata": {},
     "output_type": "execute_result"
    }
   ],
   "source": [
    "df_bigram_prob.columns\n",
    "df_bigram_prob['Word After','of']['Word Before','a']"
   ]
  },
  {
   "cell_type": "code",
   "execution_count": 31,
   "id": "illegal-event",
   "metadata": {
    "scrolled": true
   },
   "outputs": [],
   "source": [
    "lex = 'lexicon.txt'\n",
    "f_1,_ = generate_word_sequence_recognition_wfst_bigram(1, lex, df_bigram_prob, original=False, weight_fwd=0.5, weight_self=0.5)\n",
    "# f_2, _ = generate_word_sequence_recognition_wfst(1, lex, original=False, weight_fwd=0.1, weight_self=0.9)"
   ]
  },
  {
   "cell_type": "code",
   "execution_count": 32,
   "id": "referenced-principle",
   "metadata": {},
   "outputs": [],
   "source": [
    "to_pic(f_1,'f_1_bigram')"
   ]
  },
  {
   "cell_type": "code",
   "execution_count": 29,
   "id": "unable-dress",
   "metadata": {},
   "outputs": [
    {
     "data": {
      "text/plain": [
       "4.709531201312834"
      ]
     },
     "execution_count": 29,
     "metadata": {},
     "output_type": "execute_result"
    }
   ],
   "source": [
    "import math\n",
    "-math.log(0.009009)"
   ]
  }
 ],
 "metadata": {
  "kernelspec": {
   "display_name": "Python 3",
   "language": "python",
   "name": "python3"
  },
  "language_info": {
   "codemirror_mode": {
    "name": "ipython",
    "version": 3
   },
   "file_extension": ".py",
   "mimetype": "text/x-python",
   "name": "python",
   "nbconvert_exporter": "python",
   "pygments_lexer": "ipython3",
   "version": "3.7.9"
  }
 },
 "nbformat": 4,
 "nbformat_minor": 5
}
