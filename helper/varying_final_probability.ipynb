{
 "cells": [
  {
   "cell_type": "markdown",
   "id": "religious-opera",
   "metadata": {},
   "source": [
    "# Varying Final Probabilities"
   ]
  },
  {
   "cell_type": "code",
   "execution_count": 2,
   "id": "helpful-principle",
   "metadata": {},
   "outputs": [],
   "source": [
    "def generate_WFST_final_probability(n, lex, weights_final, weight_fwd, weight_self, original=False):\n",
    "    \"\"\" generate a HMM to recognise any single word sequence for words in the lexicon\n",
    "    \n",
    "    Args:\n",
    "        n (int): states per phone HMM\n",
    "        original (bool): True/False - origianl/optimized lexicon\n",
    "        weight_fwd (int): weight value\n",
    "        weight_self (int): weight value of self node\n",
    "        weight_final (dict): word -> probability of final state\n",
    "    Returns:\n",
    "        the constructed WFST\n",
    "    \n",
    "    \"\"\"\n",
    "    \n",
    "    f = fst.Fst('log')\n",
    "    none_weight = fst.Weight('log', -math.log(1))\n",
    "\n",
    "    lex = parse_lexicon(lex, original)\n",
    "    \n",
    "    word_table, phone_table, state_table = generate_symbols_table(lex,3)\n",
    "    output_table = generate_output_table(word_table, phone_table)\n",
    "\n",
    "    # create a single start state\n",
    "    start_state = f.add_state()\n",
    "    f.set_start(start_state)\n",
    "    \n",
    "    for word, phone_list in lex.items():\n",
    "        for phones in phone_list:\n",
    "            initial_state = f.add_state()\n",
    "            f.add_arc(start_state, fst.Arc(0, output_table.find(word), none_weight, initial_state))\n",
    "            current_state = initial_state\n",
    "            \n",
    "            for phone in phones:\n",
    "                current_state = generate_phone_wfst(f, current_state, phone, n, state_table, output_table, weight_fwd, weight_self)\n",
    "        \n",
    "            f.set_final(current_state)\n",
    "            f.add_arc(current_state, fst.Arc(0, 0, none_weight, start_state))\n",
    "        \n",
    "        # final word state should be current state\n",
    "        prob = weights_final[word]\n",
    "        weight = fst.Weight('log', -math.log(prob))\n",
    "        f.set_final(current_state, weight)\n",
    "        \n",
    "        \n",
    "    f.set_input_symbols(state_table)\n",
    "    f.set_output_symbols(output_table)\n",
    "    return f, word_table "
   ]
  },
  {
   "cell_type": "code",
   "execution_count": null,
   "id": "simple-extraction",
   "metadata": {},
   "outputs": [],
   "source": []
  }
 ],
 "metadata": {
  "kernelspec": {
   "display_name": "Python 3",
   "language": "python",
   "name": "python3"
  },
  "language_info": {
   "codemirror_mode": {
    "name": "ipython",
    "version": 3
   },
   "file_extension": ".py",
   "mimetype": "text/x-python",
   "name": "python",
   "nbconvert_exporter": "python",
   "pygments_lexer": "ipython3",
   "version": "3.7.9"
  }
 },
 "nbformat": 4,
 "nbformat_minor": 5
}
