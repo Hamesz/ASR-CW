{
 "cells": [
  {
   "cell_type": "code",
   "execution_count": 75,
   "id": "frequent-class",
   "metadata": {},
   "outputs": [],
   "source": [
    "import numpy as np\n",
    "import pandas as pd\n",
    "import matplotlib.pyplot as plt"
   ]
  },
  {
   "cell_type": "code",
   "execution_count": 3,
   "id": "isolated-replica",
   "metadata": {},
   "outputs": [],
   "source": [
    "import os\n",
    "folder = '/group/teaching/asr/labs/individual_recordings/s1645821'\n",
    "folder = '/group/teaching/asr/labs/recordings'\n",
    "wavs_txt = [os.path.join(folder,x) for x in os.listdir(folder)]\n",
    "wavs = [wav for wav in wavs_txt if ('.wav' in wav)]\n",
    "txts = [wav for wav in wavs_txt if ('.txt' in wav)]\n",
    "# wavs"
   ]
  },
  {
   "cell_type": "markdown",
   "id": "developmental-condition",
   "metadata": {},
   "source": [
    "# Counting"
   ]
  },
  {
   "cell_type": "code",
   "execution_count": 136,
   "id": "desirable-lottery",
   "metadata": {},
   "outputs": [],
   "source": [
    "def get_occurences(transcript_files):\n",
    "    # count how many words are at the start\n",
    "    dict_first = {}   # dictionary of first words\n",
    "    dict_last  = {}   # dictionary of last words\n",
    "    dict_all   = {}   # dictionary of all words\n",
    "    txt_all    = []   # list of all sentences\n",
    "    for txt in txts[:]:\n",
    "        txt_file = open(txt, \"r\")       # open file\n",
    "        txt_str = txt_file.read()       # string from file\n",
    "        txt_list = txt_str.split()      # separate @ white space\n",
    "        txt_first = txt_list[0]     # first word\n",
    "        txt_last  = txt_list[-1]    # last word\n",
    "        # -- add to dictionary & lists\n",
    "        txt_all.append(txt_str)           # add to list of strings\n",
    "        if txt_first in dict_first:       # add first words\n",
    "            dict_first[txt_first] += 1\n",
    "        else:\n",
    "            dict_first[txt_first] = 1\n",
    "\n",
    "        if txt_last in dict_last:         # add last words\n",
    "            dict_last[txt_last] += 1\n",
    "        else:\n",
    "            dict_last[txt_last] = 1\n",
    "\n",
    "        for word in txt_list:             # add all words\n",
    "            if word in dict_all:\n",
    "                dict_all[word] += 1\n",
    "            else:\n",
    "                dict_all[word] = 1\n",
    "    return (dict_first, dict_last, dict_all)"
   ]
  },
  {
   "cell_type": "markdown",
   "id": "iraqi-blind",
   "metadata": {},
   "source": [
    "# Pringing"
   ]
  },
  {
   "cell_type": "code",
   "execution_count": 7,
   "id": "municipal-mineral",
   "metadata": {
    "scrolled": true
   },
   "outputs": [
    {
     "name": "stdout",
     "output_type": "stream",
     "text": [
      "---------- FIRST ----------\n",
      "0) a: 23\n",
      "1) of: 5\n",
      "2) peck: 7\n",
      "3) peppers: 4\n",
      "4) peter: 108\n",
      "5) picked: 10\n",
      "6) pickled: 22\n",
      "7) piper: 12\n",
      "8) the: 20\n",
      "9) where's: 69\n",
      "\n",
      "---------- LAST ----------\n",
      "0) a: 1\n",
      "1) of: 2\n",
      "2) peck: 28\n",
      "3) peppers: 113\n",
      "4) peter: 14\n",
      "5) picked: 68\n",
      "6) pickled: 10\n",
      "7) piper: 41\n",
      "8) the: 1\n",
      "9) where's: 2\n",
      "\n",
      "---------- ALL ----------\n",
      "0) a: 135\n",
      "1) of: 222\n",
      "2) peck: 244\n",
      "3) peppers: 282\n",
      "4) peter: 255\n",
      "5) picked: 234\n",
      "6) pickled: 265\n",
      "7) piper: 243\n",
      "8) the: 135\n",
      "9) where's: 124\n"
     ]
    }
   ],
   "source": [
    "# PRINTING\n",
    "print('-'*10 + ' FIRST '+'-'*10)\n",
    "for i,word in enumerate(sorted (dict_first)):\n",
    "    print('{}) {}: {}'.format(i, word, dict_first[word]))\n",
    "print()\n",
    "print('-'*10 + ' LAST '+'-'*10)\n",
    "for i,word in enumerate(sorted(dict_last)):\n",
    "    print('{}) {}: {}'.format(i, word, dict_last[word]))\n",
    "print()\n",
    "print('-'*10 + ' ALL '+'-'*10)\n",
    "for i,word in enumerate(sorted (dict_all)):\n",
    "    print('{}) {}: {}'.format(i, word, dict_all[word]))"
   ]
  },
  {
   "cell_type": "markdown",
   "id": "convertible-triumph",
   "metadata": {},
   "source": [
    "# Occurances"
   ]
  },
  {
   "cell_type": "markdown",
   "id": "acoustic-aging",
   "metadata": {},
   "source": [
    "## Counting"
   ]
  },
  {
   "cell_type": "code",
   "execution_count": 10,
   "id": "approximate-punishment",
   "metadata": {},
   "outputs": [
    {
     "name": "stdout",
     "output_type": "stream",
     "text": [
      " list_labels: ['a', 'of', 'peck', 'peppers', 'peter', 'picked', 'pickled', 'piper', 'the', \"where's\"]\n",
      " list_first: [23, 5, 7, 4, 108, 10, 22, 12, 20, 69]\n",
      " list_last: [1, 2, 28, 113, 14, 68, 10, 41, 1, 2]\n",
      " list_all: [135, 222, 244, 282, 255, 234, 265, 243, 135, 124]\n",
      "\n"
     ]
    }
   ],
   "source": [
    "list_labels, list_first, list_last, list_all = [], [], [], []\n",
    "\n",
    "for word in sorted (dict_first):\n",
    "    list_first.append(dict_first[word])\n",
    "for word in sorted(dict_last):\n",
    "    list_last.append(dict_last[word])\n",
    "for word in sorted (dict_all):\n",
    "    list_all.append(dict_all[word])\n",
    "    list_labels.append(word)\n",
    "print(' list_labels: {}\\n list_first: {}\\n list_last: {}\\n list_all: {}\\n'\\\n",
    "      .format(list_labels, list_first, list_last, list_all))"
   ]
  },
  {
   "cell_type": "markdown",
   "id": "dominant-joyce",
   "metadata": {},
   "source": [
    "## Plotting"
   ]
  },
  {
   "cell_type": "code",
   "execution_count": 25,
   "id": "wrapped-yukon",
   "metadata": {},
   "outputs": [
    {
     "data": {
      "image/png": "[encoded data removed]",
      "text/plain": [
       "<Figure size 720x360 with 1 Axes>"
      ]
     },
     "metadata": {
      "needs_background": "light"
     },
     "output_type": "display_data"
    }
   ],
   "source": [
    "N = len(list_labels)\n",
    "ind = np.arange(N)  # the x locations for the groups\n",
    "width = 0.25        # the width of the bars\n",
    "\n",
    "fig = plt.figure(figsize=(10,5))\n",
    "ax = fig.add_subplot(111)\n",
    "\n",
    "rects0 = ax.bar(ind-width, list_all,   width, color='blue')\n",
    "rects1 = ax.bar(ind      , list_first, width, color='green')\n",
    "rects2 = ax.bar(ind+width, list_last,  width, color='red')\n",
    "\n",
    "# add some\n",
    "ax.set_ylabel('Occurances')\n",
    "ax.set_title('Occuranbces of words')\n",
    "ax.set_xticks(ind)\n",
    "ax.set_xticklabels( list_labels )\n",
    "\n",
    "ax.legend( (rects0[0], rects1[0], rects2[0]), ('Overall', 'Start of sentance', 'End of sentance') )\n",
    "\n",
    "plt.show()"
   ]
  },
  {
   "cell_type": "markdown",
   "id": "known-hayes",
   "metadata": {},
   "source": [
    "# Bigrams"
   ]
  },
  {
   "cell_type": "markdown",
   "id": "stuffed-negotiation",
   "metadata": {},
   "source": [
    "## Counting"
   ]
  },
  {
   "cell_type": "code",
   "execution_count": 127,
   "id": "armed-developer",
   "metadata": {
    "scrolled": false
   },
   "outputs": [],
   "source": [
    "bigrams = [b for l in txt_all[:] for b in zip(l.split()[:-1], l.split()[1:])]\n",
    "bigram_dict = {}\n",
    "for bigram in bigrams:\n",
    "    if (bigram in bigram_dict):\n",
    "        bigram_dict[bigram] += 1\n",
    "    else:\n",
    "        bigram_dict[bigram] = 1"
   ]
  },
  {
   "cell_type": "markdown",
   "id": "liable-polish",
   "metadata": {},
   "source": [
    "### Array of occurances \n"
   ]
  },
  {
   "cell_type": "code",
   "execution_count": 108,
   "id": "capable-hunger",
   "metadata": {},
   "outputs": [
    {
     "data": {
      "text/plain": [
       "array([[  0.,   4., 105.,   0.,   5.,   4.,   6.,   9.,   0.,   1.],\n",
       "       [  2.,   1.,   9.,  28.,   8.,   7., 153.,   6.,   4.,   2.],\n",
       "       [  0., 177.,   6.,   5.,   5.,  10.,   7.,   2.,   2.,   2.],\n",
       "       [  3.,   6.,   7.,   3.,  67.,  20.,  13.,  11.,   6.,  33.],\n",
       "       [  4.,   9.,   5.,   8.,   6.,  25.,   7., 164.,   7.,   6.],\n",
       "       [ 88.,   2.,   6.,  20.,  15.,   1.,  13.,   7.,   9.,   5.],\n",
       "       [  6.,   7.,   7., 185.,  16.,   5.,  11.,  11.,   2.,   5.],\n",
       "       [  0.,  11.,   8.,   8.,   9., 143.,  20.,   0.,   2.,   1.],\n",
       "       [  1.,   0.,  82.,  14.,   3.,   5.,  12.,  17.,   0.,   0.],\n",
       "       [  8.,   0.,   2.,   7.,  13.,   4.,   1.,   4.,  83.,   0.]])"
      ]
     },
     "execution_count": 108,
     "metadata": {},
     "output_type": "execute_result"
    }
   ],
   "source": [
    "columns = list_labels\n",
    "data = np.zeros([len(columns),len(columns)])\n",
    "for (col, row),occurence in bigram_dict.items():\n",
    "    col_idx = columns.index(col)\n",
    "    row_idx = columns.index(row)\n",
    "    data[col_idx,row_idx] = occurence\n",
    "data"
   ]
  },
  {
   "cell_type": "markdown",
   "id": "remarkable-airfare",
   "metadata": {},
   "source": [
    "### Array to dataframe"
   ]
  },
  {
   "cell_type": "code",
   "execution_count": 109,
   "id": "possible-genre",
   "metadata": {},
   "outputs": [
    {
     "data": {
      "text/html": [
       "<div>\n",
       "<style scoped>\n",
       "    .dataframe tbody tr th:only-of-type {\n",
       "        vertical-align: middle;\n",
       "    }\n",
       "\n",
       "    .dataframe tbody tr th {\n",
       "        vertical-align: top;\n",
       "    }\n",
       "\n",
       "    .dataframe thead tr th {\n",
       "        text-align: left;\n",
       "    }\n",
       "</style>\n",
       "<table border=\"1\" class=\"dataframe\">\n",
       "  <thead>\n",
       "    <tr>\n",
       "      <th></th>\n",
       "      <th></th>\n",
       "      <th colspan=\"10\" halign=\"left\">Word After</th>\n",
       "    </tr>\n",
       "    <tr>\n",
       "      <th></th>\n",
       "      <th></th>\n",
       "      <th>a</th>\n",
       "      <th>of</th>\n",
       "      <th>peck</th>\n",
       "      <th>peppers</th>\n",
       "      <th>peter</th>\n",
       "      <th>picked</th>\n",
       "      <th>pickled</th>\n",
       "      <th>piper</th>\n",
       "      <th>the</th>\n",
       "      <th>where's</th>\n",
       "    </tr>\n",
       "  </thead>\n",
       "  <tbody>\n",
       "    <tr>\n",
       "      <th rowspan=\"10\" valign=\"top\">Word Before</th>\n",
       "      <th>a</th>\n",
       "      <td>0.0</td>\n",
       "      <td>4.0</td>\n",
       "      <td>105.0</td>\n",
       "      <td>0.0</td>\n",
       "      <td>5.0</td>\n",
       "      <td>4.0</td>\n",
       "      <td>6.0</td>\n",
       "      <td>9.0</td>\n",
       "      <td>0.0</td>\n",
       "      <td>1.0</td>\n",
       "    </tr>\n",
       "    <tr>\n",
       "      <th>of</th>\n",
       "      <td>2.0</td>\n",
       "      <td>1.0</td>\n",
       "      <td>9.0</td>\n",
       "      <td>28.0</td>\n",
       "      <td>8.0</td>\n",
       "      <td>7.0</td>\n",
       "      <td>153.0</td>\n",
       "      <td>6.0</td>\n",
       "      <td>4.0</td>\n",
       "      <td>2.0</td>\n",
       "    </tr>\n",
       "    <tr>\n",
       "      <th>peck</th>\n",
       "      <td>0.0</td>\n",
       "      <td>177.0</td>\n",
       "      <td>6.0</td>\n",
       "      <td>5.0</td>\n",
       "      <td>5.0</td>\n",
       "      <td>10.0</td>\n",
       "      <td>7.0</td>\n",
       "      <td>2.0</td>\n",
       "      <td>2.0</td>\n",
       "      <td>2.0</td>\n",
       "    </tr>\n",
       "    <tr>\n",
       "      <th>peppers</th>\n",
       "      <td>3.0</td>\n",
       "      <td>6.0</td>\n",
       "      <td>7.0</td>\n",
       "      <td>3.0</td>\n",
       "      <td>67.0</td>\n",
       "      <td>20.0</td>\n",
       "      <td>13.0</td>\n",
       "      <td>11.0</td>\n",
       "      <td>6.0</td>\n",
       "      <td>33.0</td>\n",
       "    </tr>\n",
       "    <tr>\n",
       "      <th>peter</th>\n",
       "      <td>4.0</td>\n",
       "      <td>9.0</td>\n",
       "      <td>5.0</td>\n",
       "      <td>8.0</td>\n",
       "      <td>6.0</td>\n",
       "      <td>25.0</td>\n",
       "      <td>7.0</td>\n",
       "      <td>164.0</td>\n",
       "      <td>7.0</td>\n",
       "      <td>6.0</td>\n",
       "    </tr>\n",
       "    <tr>\n",
       "      <th>picked</th>\n",
       "      <td>88.0</td>\n",
       "      <td>2.0</td>\n",
       "      <td>6.0</td>\n",
       "      <td>20.0</td>\n",
       "      <td>15.0</td>\n",
       "      <td>1.0</td>\n",
       "      <td>13.0</td>\n",
       "      <td>7.0</td>\n",
       "      <td>9.0</td>\n",
       "      <td>5.0</td>\n",
       "    </tr>\n",
       "    <tr>\n",
       "      <th>pickled</th>\n",
       "      <td>6.0</td>\n",
       "      <td>7.0</td>\n",
       "      <td>7.0</td>\n",
       "      <td>185.0</td>\n",
       "      <td>16.0</td>\n",
       "      <td>5.0</td>\n",
       "      <td>11.0</td>\n",
       "      <td>11.0</td>\n",
       "      <td>2.0</td>\n",
       "      <td>5.0</td>\n",
       "    </tr>\n",
       "    <tr>\n",
       "      <th>piper</th>\n",
       "      <td>0.0</td>\n",
       "      <td>11.0</td>\n",
       "      <td>8.0</td>\n",
       "      <td>8.0</td>\n",
       "      <td>9.0</td>\n",
       "      <td>143.0</td>\n",
       "      <td>20.0</td>\n",
       "      <td>0.0</td>\n",
       "      <td>2.0</td>\n",
       "      <td>1.0</td>\n",
       "    </tr>\n",
       "    <tr>\n",
       "      <th>the</th>\n",
       "      <td>1.0</td>\n",
       "      <td>0.0</td>\n",
       "      <td>82.0</td>\n",
       "      <td>14.0</td>\n",
       "      <td>3.0</td>\n",
       "      <td>5.0</td>\n",
       "      <td>12.0</td>\n",
       "      <td>17.0</td>\n",
       "      <td>0.0</td>\n",
       "      <td>0.0</td>\n",
       "    </tr>\n",
       "    <tr>\n",
       "      <th>where's</th>\n",
       "      <td>8.0</td>\n",
       "      <td>0.0</td>\n",
       "      <td>2.0</td>\n",
       "      <td>7.0</td>\n",
       "      <td>13.0</td>\n",
       "      <td>4.0</td>\n",
       "      <td>1.0</td>\n",
       "      <td>4.0</td>\n",
       "      <td>83.0</td>\n",
       "      <td>0.0</td>\n",
       "    </tr>\n",
       "  </tbody>\n",
       "</table>\n",
       "</div>"
      ],
      "text/plain": [
       "                    Word After                                             \\\n",
       "                             a     of   peck peppers peter picked pickled   \n",
       "Word Before a              0.0    4.0  105.0     0.0   5.0    4.0     6.0   \n",
       "            of             2.0    1.0    9.0    28.0   8.0    7.0   153.0   \n",
       "            peck           0.0  177.0    6.0     5.0   5.0   10.0     7.0   \n",
       "            peppers        3.0    6.0    7.0     3.0  67.0   20.0    13.0   \n",
       "            peter          4.0    9.0    5.0     8.0   6.0   25.0     7.0   \n",
       "            picked        88.0    2.0    6.0    20.0  15.0    1.0    13.0   \n",
       "            pickled        6.0    7.0    7.0   185.0  16.0    5.0    11.0   \n",
       "            piper          0.0   11.0    8.0     8.0   9.0  143.0    20.0   \n",
       "            the            1.0    0.0   82.0    14.0   3.0    5.0    12.0   \n",
       "            where's        8.0    0.0    2.0     7.0  13.0    4.0     1.0   \n",
       "\n",
       "                                          \n",
       "                     piper   the where's  \n",
       "Word Before a          9.0   0.0     1.0  \n",
       "            of         6.0   4.0     2.0  \n",
       "            peck       2.0   2.0     2.0  \n",
       "            peppers   11.0   6.0    33.0  \n",
       "            peter    164.0   7.0     6.0  \n",
       "            picked     7.0   9.0     5.0  \n",
       "            pickled   11.0   2.0     5.0  \n",
       "            piper      0.0   2.0     1.0  \n",
       "            the       17.0   0.0     0.0  \n",
       "            where's    4.0  83.0     0.0  "
      ]
     },
     "execution_count": 109,
     "metadata": {},
     "output_type": "execute_result"
    }
   ],
   "source": [
    "bigram_df = pd.DataFrame(data, columns,columns)\n",
    "bigram_df = pd.concat(\n",
    "    [pd.concat(\n",
    "        [bigram_df],\n",
    "        keys=['Word After'], axis=1)],\n",
    "    keys=['Word Before'])\n",
    "bigram_df"
   ]
  },
  {
   "cell_type": "markdown",
   "id": "appointed-newsletter",
   "metadata": {},
   "source": [
    "## Plotting"
   ]
  },
  {
   "cell_type": "code",
   "execution_count": 110,
   "id": "handed-vienna",
   "metadata": {},
   "outputs": [
    {
     "data": {
      "image/png": "[encoded data removed]",
      "text/plain": [
       "<Figure size 720x720 with 1 Axes>"
      ]
     },
     "metadata": {
      "needs_background": "light"
     },
     "output_type": "display_data"
    }
   ],
   "source": [
    "index = list_labels\n",
    "columns = list_labels\n",
    "\n",
    "fig = plt.figure(figsize=(10,10))\n",
    "ax = fig.add_subplot(111)\n",
    "ax.set_title('Bigrams Heatmap')\n",
    "ax.set_ylabel('First Word')\n",
    "ax.set_ylabel('Second Word')\n",
    "# ax.pcolor(bigram_df)\n",
    "\n",
    "ax.matshow(bigram_df)#, cmap='seismic')\n",
    "for (i, j), z in np.ndenumerate(data):\n",
    "    ax.text(j, i, '{:0.1f}'.format(z), ha='center', va='center')\n",
    "    \n",
    "plt.yticks(np.arange(0.0, len(bigram_df.index), 1), list_labels)\n",
    "plt.xticks(np.arange(0.0, len(bigram_df.columns), 1), list_labels, rotation=25)\n",
    "plt.show()"
   ]
  },
  {
   "cell_type": "markdown",
   "id": "instrumental-williams",
   "metadata": {},
   "source": [
    "# Trigrams"
   ]
  },
  {
   "cell_type": "code",
   "execution_count": 135,
   "id": "resistant-drilling",
   "metadata": {},
   "outputs": [
    {
     "data": {
      "image/png": "[encoded data removed]",
      "text/plain": [
       "<Figure size 720x360 with 1 Axes>"
      ]
     },
     "metadata": {
      "needs_background": "light"
     },
     "output_type": "display_data"
    }
   ],
   "source": [
    "from nltk import trigrams\n",
    "\n",
    "# -- making trigrams\n",
    "list_trigrams = []\n",
    "for sentance in txt_all:\n",
    "    sentance_trigrams = list(trigrams(sentance.split()))\n",
    "    for trigram in sentance_trigrams:\n",
    "        list_trigrams.append(trigram)\n",
    "\n",
    "# -- dictionary\n",
    "dict_traigrams = {}\n",
    "for trigram in list_trigrams:\n",
    "    if (trigram in dict_traigrams):\n",
    "        dict_traigrams[trigram] += 1\n",
    "    else:\n",
    "        dict_traigrams[trigram] = 1\n",
    "# -- into lists\n",
    "list_tri_ordered = []\n",
    "list_occ_ordered = []\n",
    "for tri, occ in (sorted(dict_traigrams.items(), key = lambda kv:(kv[1], kv[0]))):\n",
    "#     print('{}: {}'.format(tri, occ))\n",
    "    list_tri_ordered.append(tri)\n",
    "    list_occ_ordered.append(occ)\n",
    "\n",
    "# -- plotting\n",
    "fig = plt.figure(figsize=(10,5))\n",
    "ax = fig.add_subplot(111)\n",
    "# add values\n",
    "ax.plot(list(range(len(list_tri_ordered))), list_occ_ordered)\n",
    "# add some\n",
    "ax.set_ylabel('Trigram Occurances ordered')\n",
    "ax.set_title('Trigrams')\n",
    "# ax.set_xticks(ind)\n",
    "# ax.set_xticklabels( list_labels )\n",
    "\n",
    "plt.show()\n",
    "    "
   ]
  }
 ],
 "metadata": {
  "kernelspec": {
   "display_name": "Python 3",
   "language": "python",
   "name": "python3"
  },
  "language_info": {
   "codemirror_mode": {
    "name": "ipython",
    "version": 3
   },
   "file_extension": ".py",
   "mimetype": "text/x-python",
   "name": "python",
   "nbconvert_exporter": "python",
   "pygments_lexer": "ipython3",
   "version": "3.7.9"
  }
 },
 "nbformat": 4,
 "nbformat_minor": 5
}
